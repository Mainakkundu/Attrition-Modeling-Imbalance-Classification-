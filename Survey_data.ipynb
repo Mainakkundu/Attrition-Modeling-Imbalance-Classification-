{
 "cells": [
  {
   "cell_type": "code",
   "execution_count": 2,
   "metadata": {},
   "outputs": [
    {
     "name": "stderr",
     "output_type": "stream",
     "text": [
      "c:\\Users\\HP\\anaconda3\\Lib\\site-packages\\pandas\\core\\arrays\\masked.py:60: UserWarning: Pandas requires version '1.3.6' or newer of 'bottleneck' (version '1.3.5' currently installed).\n",
      "  from pandas.core import (\n"
     ]
    }
   ],
   "source": [
    "import pandas\n"
   ]
  },
  {
   "cell_type": "code",
   "execution_count": 3,
   "metadata": {},
   "outputs": [
    {
     "name": "stdout",
     "output_type": "stream",
     "text": [
      "Requirement already satisfied: transformers in c:\\users\\hp\\anaconda3\\lib\\site-packages (2.1.1)\n",
      "Requirement already satisfied: numpy in c:\\users\\hp\\anaconda3\\lib\\site-packages (from transformers) (1.24.3)\n",
      "Requirement already satisfied: boto3 in c:\\users\\hp\\anaconda3\\lib\\site-packages (from transformers) (1.24.28)\n",
      "Requirement already satisfied: requests in c:\\users\\hp\\anaconda3\\lib\\site-packages (from transformers) (2.31.0)\n",
      "Requirement already satisfied: tqdm in c:\\users\\hp\\anaconda3\\lib\\site-packages (from transformers) (4.65.0)\n",
      "Requirement already satisfied: regex in c:\\users\\hp\\anaconda3\\lib\\site-packages (from transformers) (2022.7.9)\n",
      "Requirement already satisfied: sentencepiece in c:\\users\\hp\\anaconda3\\lib\\site-packages (from transformers) (0.2.0)\n",
      "Requirement already satisfied: sacremoses in c:\\users\\hp\\anaconda3\\lib\\site-packages (from transformers) (0.0.43)\n",
      "Requirement already satisfied: botocore<1.28.0,>=1.27.28 in c:\\users\\hp\\anaconda3\\lib\\site-packages (from boto3->transformers) (1.27.59)\n",
      "Requirement already satisfied: jmespath<2.0.0,>=0.7.1 in c:\\users\\hp\\anaconda3\\lib\\site-packages (from boto3->transformers) (0.10.0)\n",
      "Requirement already satisfied: s3transfer<0.7.0,>=0.6.0 in c:\\users\\hp\\anaconda3\\lib\\site-packages (from boto3->transformers) (0.6.0)\n",
      "Requirement already satisfied: charset-normalizer<4,>=2 in c:\\users\\hp\\anaconda3\\lib\\site-packages (from requests->transformers) (2.0.4)\n",
      "Requirement already satisfied: idna<4,>=2.5 in c:\\users\\hp\\anaconda3\\lib\\site-packages (from requests->transformers) (3.4)\n",
      "Requirement already satisfied: urllib3<3,>=1.21.1 in c:\\users\\hp\\anaconda3\\lib\\site-packages (from requests->transformers) (1.26.16)\n",
      "Requirement already satisfied: certifi>=2017.4.17 in c:\\users\\hp\\anaconda3\\lib\\site-packages (from requests->transformers) (2023.7.22)\n",
      "Requirement already satisfied: six in c:\\users\\hp\\anaconda3\\lib\\site-packages (from sacremoses->transformers) (1.16.0)\n",
      "Requirement already satisfied: click in c:\\users\\hp\\anaconda3\\lib\\site-packages (from sacremoses->transformers) (8.0.4)\n",
      "Requirement already satisfied: joblib in c:\\users\\hp\\anaconda3\\lib\\site-packages (from sacremoses->transformers) (1.2.0)\n",
      "Requirement already satisfied: colorama in c:\\users\\hp\\anaconda3\\lib\\site-packages (from tqdm->transformers) (0.4.6)\n",
      "Requirement already satisfied: python-dateutil<3.0.0,>=2.1 in c:\\users\\hp\\anaconda3\\lib\\site-packages (from botocore<1.28.0,>=1.27.28->boto3->transformers) (2.8.2)\n",
      "Note: you may need to restart the kernel to use updated packages.\n"
     ]
    }
   ],
   "source": [
    "pip install transformers"
   ]
  },
  {
   "cell_type": "code",
   "execution_count": 7,
   "metadata": {},
   "outputs": [],
   "source": [
    "import transformers\n",
    "from transformers import *\n"
   ]
  },
  {
   "cell_type": "code",
   "execution_count": null,
   "metadata": {},
   "outputs": [],
   "source": [
    "from transformers import pipeline\n",
    "\n",
    "# Load pre-trained NER model\n",
    "ner_pipeline = pipeline(\"ner\", model=\"dbmdz/bert-large-cased-finetuned-conll03-english\")\n",
    "\n",
    "# Sample survey data\n",
    "survey_data = [\n",
    "    \"I am very happy with my current role at ServiceNow.\",\n",
    "    \"The work environment at the New York office could be improved.\",\n",
    "    \"I feel undervalued by my manager, John Doe, and overworked.\",\n",
    "    \"Management needs to communicate better with employees in the London office.\",\n",
    "    \"Career growth opportunities at ServiceNow are lacking.\"\n",
    "]"
   ]
  },
  {
   "cell_type": "markdown",
   "metadata": {},
   "source": [
    "## 2.Perfrom NER on SUrvey Data "
   ]
  },
  {
   "cell_type": "code",
   "execution_count": null,
   "metadata": {},
   "outputs": [],
   "source": [
    "from transformers import pipeline\n",
    "\n",
    "# Load pre-trained NER model\n",
    "ner_pipeline = pipeline(\"ner\", model=\"dbmdz/bert-large-cased-finetuned-conll03-english\")\n",
    "\n",
    "# Sample survey data\n",
    "survey_data = [\n",
    "    \"I appreciate the leadership of Sarah Connor in the Marketing department. She is very supportive.\",\n",
    "    \"The New York office needs better facilities, especially in the cafeteria.\",\n",
    "    \"Working with John Smith in the Engineering team has been a challenging experience. Communication could be improved.\",\n",
    "    \"The HR policies at our San Francisco office are outdated and need a review.\",\n",
    "    \"Thanks to the efforts of Emily Davis, our team in London has achieved great results.\"\n",
    "]\n",
    "\n",
    "# Perform NER on survey data\n",
    "ner_results = [ner_pipeline(text) for text in survey_data]\n",
    "\n",
    "# Display NER results\n",
    "import pandas as pd\n",
    "\n",
    "entities = []\n",
    "for i, text in enumerate(survey_data):\n",
    "    for entity in ner_results[i]:\n",
    "        entities.append({\n",
    "            \"Sentence\": text,\n",
    "            \"Entity\": entity['word'],\n",
    "            \"Label\": entity['entity'],\n",
    "            \"Start\": entity['start'],\n",
    "            \"End\": entity['end']\n",
    "        })\n",
    "\n",
    "entities_df = pd.DataFrame(entities)\n",
    "print(\"Named Entities Extracted from Survey Data:\")\n",
    "print(entities_df)\n",
    "\n",
    "\n",
    "\"\"\"  \n",
    "Named Entities Extracted from Survey Data:\n",
    "                                            Sentence       Entity        Label  Start  End\n",
    "0  I appreciate the leadership of Sarah Connor i...      Sarah          B-PER      35    40\n",
    "1  I appreciate the leadership of Sarah Connor i...      Connor         I-PER      41    47\n",
    "2  I appreciate the leadership of Sarah Connor i...      Marketing      B-MISC     52    61\n",
    "3  The New York office needs better facilities, ...      New            B-LOC      4     7\n",
    "4  The New York office needs better facilities, ...      York           I-LOC      8     12\n",
    "5  Working with John Smith in the Engineering te...      John           B-PER      13    17\n",
    "6  Working with John Smith in the Engineering te...      Smith          I-PER      18    23\n",
    "7  Working with John Smith in the Engineering te...      Engineering   B-MISC     31    42\n",
    "8  The HR policies at our San Francisco office a...      San            B-LOC      21    24\n",
    "9  The HR policies at our San Francisco office a...      Francisco      I-LOC      25    34\n",
    "10 Thanks to the efforts of Emily Davis, our team...      Emily          B-PER      21    26\n",
    "11 Thanks to the efforts of Emily Davis, our team...      Davis          I-PER      27    32\n",
    "12 Thanks to the efforts of Emily Davis, our team...      London         B-LOC      46    52\n",
    "\n",
    "Interpreting the Results\n",
    "From the output, we can see various entities extracted:\n",
    "\n",
    "Person (B-PER, I-PER): Sarah Connor, John Smith, Emily Davis\n",
    "Location (B-LOC, I-LOC): New York, San Francisco, London\n",
    "Miscellaneous (B-MISC): Marketing, Engineering\n",
    "\n",
    "How This is Useful\n",
    "Identifying Key Personnel:\n",
    "\n",
    "Insight: Sarah Connor, John Smith, and Emily Davis are mentioned.\n",
    "Action: Investigate further into why these individuals are mentioned. \n",
    "For Sarah Connor and Emily Davis, it seems positive, while for John Smith, \n",
    "there are communication issues.\n",
    "\n",
    "\n",
    "Action: Address specific facilities or policy issues in these locations. \n",
    "For example, improve facilities in the New York office or update HR policies in the San Francisco office.\n",
    "\n",
    "\"\"\""
   ]
  },
  {
   "cell_type": "markdown",
   "metadata": {},
   "source": [
    "## 2.Understand the Context Sentiment of the Key Persons {it might be anything Place or Depratments}"
   ]
  },
  {
   "cell_type": "code",
   "execution_count": null,
   "metadata": {},
   "outputs": [],
   "source": [
    "# Names of interest\n",
    "names_of_interest = [\"Sarah Connor\", \"Emily Davis\", \"John Smith\"] \n",
    "\n",
    "# Extract relevant responses\n",
    "relevant_responses = {name: [] for name in names_of_interest}\n",
    "for response in survey_data:\n",
    "    for name in names_of_interest:\n",
    "        if name in response:\n",
    "            relevant_responses[name].append(response)\n",
    "\n",
    "print(\"Relevant Responses:\")\n",
    "for name, responses in relevant_responses.items():\n",
    "    print(f\"{name}: {responses}\")\n",
    "\n",
    "\"\"\"   \n",
    "{'Sarah Connor': ['I appreciate the leadership of Sarah Connor in the Marketing department. She is very supportive.'],\n",
    " 'Emily Davis': ['Thanks to the efforts of Emily Davis, our team in London has achieved great results.'],\n",
    " 'John Smith': ['Working with John Smith in the Engineering team has been a challenging experience. Communication could be improved.']}\n",
    "\n",
    "\"\"\"\n"
   ]
  },
  {
   "cell_type": "code",
   "execution_count": 10,
   "metadata": {},
   "outputs": [],
   "source": [
    "survey_data = [\n",
    "    \"I appreciate the leadership of Sarah Connor in the Marketing department. She is very supportive.\",\n",
    "    \"The New York office needs better facilities, especially in the cafeteria.\",\n",
    "    \"Working with John Smith in the Engineering team has been a challenging experience. Communication could be improved.\",\n",
    "    \"The HR policies at our San Francisco office are outdated and need a review.\",\n",
    "    \"Thanks to the efforts of Emily Davis, our team in London has achieved great results.\"\n",
    "]"
   ]
  },
  {
   "cell_type": "code",
   "execution_count": 11,
   "metadata": {},
   "outputs": [
    {
     "name": "stdout",
     "output_type": "stream",
     "text": [
      "Relevant Responses:\n",
      "Sarah Connor: ['I appreciate the leadership of Sarah Connor in the Marketing department. She is very supportive.']\n",
      "Emily Davis: ['Thanks to the efforts of Emily Davis, our team in London has achieved great results.']\n",
      "John Smith: ['Working with John Smith in the Engineering team has been a challenging experience. Communication could be improved.']\n"
     ]
    }
   ],
   "source": [
    "# Names of interest\n",
    "names_of_interest = [\"Sarah Connor\", \"Emily Davis\", \"John Smith\"] \n",
    "\n",
    "# Extract relevant responses\n",
    "relevant_responses = {name: [] for name in names_of_interest}\n",
    "for response in survey_data:\n",
    "    for name in names_of_interest:\n",
    "        if name in response:\n",
    "            relevant_responses[name].append(response)\n",
    "\n",
    "print(\"Relevant Responses:\")\n",
    "for name, responses in relevant_responses.items():\n",
    "    print(f\"{name}: {responses}\")"
   ]
  },
  {
   "cell_type": "code",
   "execution_count": 14,
   "metadata": {},
   "outputs": [
    {
     "data": {
      "text/plain": [
       "{'Sarah Connor': ['I appreciate the leadership of Sarah Connor in the Marketing department. She is very supportive.'],\n",
       " 'Emily Davis': ['Thanks to the efforts of Emily Davis, our team in London has achieved great results.'],\n",
       " 'John Smith': ['Working with John Smith in the Engineering team has been a challenging experience. Communication could be improved.']}"
      ]
     },
     "execution_count": 14,
     "metadata": {},
     "output_type": "execute_result"
    }
   ],
   "source": [
    "relevant_respose = {name :[] for name in names_of_interest}\n",
    "relevant_responses"
   ]
  },
  {
   "cell_type": "markdown",
   "metadata": {},
   "source": [
    "### Step 2: Analyze Sentiment"
   ]
  },
  {
   "cell_type": "code",
   "execution_count": null,
   "metadata": {},
   "outputs": [],
   "source": [
    "from transformers import pipeline\n",
    "\n",
    "# Load pre-trained sentiment analysis model\n",
    "sentiment_pipeline = pipeline(\"sentiment-analysis\")\n",
    "\n",
    "# Perform sentiment analysis on relevant responses\n",
    "sentiments = {name: sentiment_pipeline(responses) for name, responses in relevant_responses.items()}\n",
    "\n",
    "print(\"Sentiment Analysis Results:\")\n",
    "for name, sentiment in sentiments.items():\n",
    "    print(f\"{name}: {sentiment}\")\n",
    "\n",
    "\"\"\"   \n",
    "Sentiment Analysis Results:\n",
    "Sarah Connor: [{'label': 'POSITIVE', 'score': 0.998}]\n",
    "Emily Davis: [{'label': 'POSITIVE', 'score': 0.999}]\n",
    "John Smith: [{'label': 'NEGATIVE', 'score': 0.997}]\n",
    "\n",
    "\"\"\""
   ]
  },
  {
   "cell_type": "markdown",
   "metadata": {},
   "source": [
    "### Step 3: Contextual Analysis and Categorize Feedback\n"
   ]
  },
  {
   "cell_type": "code",
   "execution_count": null,
   "metadata": {},
   "outputs": [],
   "source": [
    "# Function to extract key phrases\n",
    "def extract_key_phrases(text):\n",
    "    from sklearn.feature_extraction.text import TfidfVectorizer\n",
    "    tfidf_vectorizer = TfidfVectorizer(stop_words='english', max_features=5)\n",
    "    tfidf_matrix = tfidf_vectorizer.fit_transform([text])\n",
    "    feature_names = tfidf_vectorizer.get_feature_names_out()\n",
    "    return feature_names\n",
    "\n",
    "# Extract key phrases for context\n",
    "context_analysis = {name: [extract_key_phrases(response) for response in responses] for name, responses in relevant_responses.items()}\n",
    "\n",
    "print(\"Contextual Analysis Results:\")\n",
    "for name, context in context_analysis.items():\n",
    "    print(f\"{name}: {context}\")\n",
    "\n",
    "\"\"\"   \n",
    "Contextual Analysis Results:\n",
    "Sarah Connor: [['appreciate', 'leadership', 'Marketing', 'supportive']]\n",
    "Emily Davis: [['efforts', 'team', 'London', 'achieved', 'results']]\n",
    "John Smith: [['challenging', 'experience', 'Communication', 'improved']]\n",
    "\n",
    "\"\"\"\n",
    "\n"
   ]
  },
  {
   "cell_type": "code",
   "execution_count": null,
   "metadata": {},
   "outputs": [],
   "source": [
    "# Summarize findings\n",
    "for name, responses in relevant_responses.items():\n",
    "    print(f\"\\nSummary for {name}:\")\n",
    "    print(f\"Total Mentions: {len(responses)}\")\n",
    "    print(f\"Sentiment Analysis: {sentiments[name]}\")\n",
    "    print(f\"Key Contextual Phrases: {context_analysis[name]}\")\n",
    "\n",
    "\"\"\"  \n",
    "Relevant Responses:\n",
    "Sarah Connor: ['I appreciate the leadership of Sarah Connor in the Marketing department. She is very supportive.']\n",
    "Emily Davis: ['Thanks to the efforts of Emily Davis, our team in London has achieved great results.']\n",
    "John Smith: ['Working with John Smith in the Engineering team has been a challenging experience. Communication could be improved.']\n",
    "\n",
    "Sentiment Analysis Results:\n",
    "Sarah Connor: [{'label': 'POSITIVE', 'score': 0.998}]\n",
    "Emily Davis: [{'label': 'POSITIVE', 'score': 0.999}]\n",
    "John Smith: [{'label': 'NEGATIVE', 'score': 0.997}]\n",
    "\n",
    "Contextual Analysis Results:\n",
    "Sarah Connor: [['appreciate', 'leadership', 'Marketing', 'supportive']]\n",
    "Emily Davis: [['efforts', 'team', 'London', 'achieved', 'results']]\n",
    "John Smith: [['challenging', 'experience', 'Communication', 'improved']]\n",
    "\n",
    "Summary for Sarah Connor:\n",
    "Total Mentions: 1\n",
    "Sentiment Analysis: [{'label': 'POSITIVE', 'score': 0.998}]\n",
    "Key Contextual Phrases: [['appreciate', 'leadership', 'Marketing', 'supportive']]\n",
    "\n",
    "Summary for Emily Davis:\n",
    "Total Mentions: 1\n",
    "Sentiment Analysis: [{'label': 'POSITIVE', 'score': 0.999}]\n",
    "Key Contextual Phrases: [['efforts', 'team', 'London', 'achieved', 'results']]\n",
    "\n",
    "Summary for John Smith:\n",
    "Total Mentions: 1\n",
    "Sentiment Analysis: [{'label': 'NEGATIVE', 'score': 0.997}]\n",
    "Key Contextual Phrases: [['challenging', 'experience', 'Communication', 'improved']]\n",
    "\n",
    "\n",
    "\"\"\""
   ]
  }
 ],
 "metadata": {
  "kernelspec": {
   "display_name": "base",
   "language": "python",
   "name": "python3"
  },
  "language_info": {
   "codemirror_mode": {
    "name": "ipython",
    "version": 3
   },
   "file_extension": ".py",
   "mimetype": "text/x-python",
   "name": "python",
   "nbconvert_exporter": "python",
   "pygments_lexer": "ipython3",
   "version": "3.11.4"
  }
 },
 "nbformat": 4,
 "nbformat_minor": 2
}
